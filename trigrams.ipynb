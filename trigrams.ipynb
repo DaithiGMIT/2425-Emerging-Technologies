{
 "cells": [
  {
   "cell_type": "markdown",
   "metadata": {},
   "source": [
    "# Task 1: Third-order Letter Approximation Model\n"
   ]
  },
  {
   "cell_type": "markdown",
   "metadata": {},
   "source": [
    "## Step 1: Loading the Text"
   ]
  },
  {
   "cell_type": "code",
   "execution_count": null,
   "metadata": {
    "vscode": {
     "languageId": "plaintext"
    }
   },
   "outputs": [],
   "source": [
    "# Import required libraries\n",
    "# For the opening and fetching of URLS https://docs.python.org/3/library/urllib.request.html\n",
    "import urllib.request\n",
    "# For creating and managing directories https://docs.python.org/3/library/os.html\n",
    "import os  \n",
    "\n",
    "# Define URLs for the chosen Books, BookName:BookURL\n",
    "urls = {\n",
    "    \"The Jungle Book\": \"https://www.gutenberg.org/cache/epub/236/pg236.txt\",\n",
    "    \"A Christmas Carol\": \"https://www.gutenberg.org/cache/epub/46/pg46.txt\",\n",
    "    \"Alice in Wonderland\": \"https://www.gutenberg.org/cache/epub/11/pg11.txt\",\n",
    "    \"The Great Gatsby\": \"https://www.gutenberg.org/cache/epub/64317/pg64317.txt\",\n",
    "    \"Moby Dick\": \"https://www.gutenberg.org/cache/epub/2701/pg2701.txt\"\n",
    "}\n",
    "\n",
    "# Create a directory for downloads if it doesn't exist\n",
    "download_dir = \"downloads\"\n",
    "\n",
    "# IF the directory does not allready exist create it\n",
    "if not os.path.exists(download_dir):\n",
    "    print(f\"Directory '{download_dir}' not found. Creating it...\")\n",
    "    os.makedirs(download_dir)\n",
    "\n",
    "# Dictionary to store the content of each book\n",
    "books_content = {}\n",
    "\n",
    "# Loop through each URL and fetch the content\n",
    "for book, url in urls.items():\n",
    "    file_path = os.path.join(download_dir, f\"{book.replace(' ', '_')}.txt\")\n",
    "    \n",
    "    # Check if the file exists\n",
    "    if os.path.exists(file_path):\n",
    "        print(f\"File '{file_path}' exists. Overwriting...\")\n",
    "    else:\n",
    "        print(f\"File '{file_path}' does not exist. Downloading...\")\n",
    "    \n",
    "    # Fetch and decode the content\n",
    "    response = urllib.request.urlopen(url)\n",
    "    content = response.read().decode('utf-8')\n",
    "    books_content[book] = content\n",
    "\n",
    "    # Save the content to the file (overwrite if it exists)\n",
    "    with open(file_path, \"w\", encoding=\"utf-8\") as file:\n",
    "        file.write(content)\n",
    "\n",
    "print(f\"All books have been downloaded and saved in the '{download_dir}' directory.\")\n"
   ]
  }
 ],
 "metadata": {
  "language_info": {
   "name": "python"
  }
 },
 "nbformat": 4,
 "nbformat_minor": 2
}
